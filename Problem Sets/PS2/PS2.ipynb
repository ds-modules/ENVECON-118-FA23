{
 "cells": [
  {
   "cell_type": "markdown",
   "id": "6920a116-ce0f-4840-965c-d35d611fb539",
   "metadata": {},
   "source": [
    "# [EEP 118] Introductory Applied Econometrics, Fall 2023\n",
    "\n",
    "# Problem Set 2\n",
    "\n",
    "* Instructor: Aprajit Mahajan\n",
    "* GSIs: Abdoulaye Cisse and Shuo Yu\n",
    "\n",
    "**About This Notebook**\n",
    "* This notebook is meant to guide you to answer Questions 5(e)-5(h) and Question 6 in the homework. You can use it to run the codes needed to answers questions in these sections of the homework. Once you run these codes, you can rely on the output generated to write your answers in the same PDF file where you answer the other questions. Do not put your answers directly in this notebook. Please submit all your answers in one PDF file on Gradescope."
   ]
  },
  {
   "cell_type": "markdown",
   "id": "0305bcc5-3773-4148-a696-9d99bc30a4e7",
   "metadata": {},
   "source": [
    "## Setup"
   ]
  },
  {
   "cell_type": "code",
   "execution_count": null,
   "id": "506cba31",
   "metadata": {},
   "outputs": [],
   "source": [
    "import statsmodels.api as sm\n",
    "import os\n",
    "import pandas as pd\n",
    "import numpy as np\n",
    "import matplotlib.pyplot as plt\n",
    "from statsmodels.iolib.summary2 import summary_col\n",
    "from scipy.stats import norm"
   ]
  },
  {
   "cell_type": "markdown",
   "id": "6404d413-f48b-472b-96cb-465c7a07789b",
   "metadata": {
    "tags": []
   },
   "source": [
    "## Question 5\n",
    "### Q5(d)\n",
    "\n",
    "The Current Population Survey (CPS) is the main source of a range of \n",
    "US labor force statistics including employment, hours worked and \n",
    "earnings. If you are interested in writing an honors thesis on labor \n",
    "force issues in the US this is a great source of data. See \n",
    "[http://www.bls.gov/cps/](http://www.bls.gov/cps/) for more details. The data set \n",
    "`cps92_08.dta` from bcourses which contains information on average \n",
    "hourly earnings, gender and college status for a sample of American\n",
    "workers."
   ]
  },
  {
   "cell_type": "code",
   "execution_count": null,
   "id": "3aa689fa",
   "metadata": {},
   "outputs": [],
   "source": [
    "# Load the dataset\n",
    "data = pd.read_stata('cps92_08.dta')"
   ]
  },
  {
   "cell_type": "code",
   "execution_count": null,
   "id": "d3145d85-55a5-4052-ac2a-d190ee4a3a10",
   "metadata": {},
   "outputs": [],
   "source": [
    "# Check the first 5 rows of the data frame to get a sense of what your data looks like.\n",
    "data.head(5)"
   ]
  },
  {
   "cell_type": "markdown",
   "id": "9586e754",
   "metadata": {},
   "source": [
    "First, estimate the model\n",
    "\\begin{equation*}\n",
    " Y=\\beta _{0}+\\beta _{1}X_{1}+\\beta _{2}X_{2}+u\n",
    "\\end{equation*}\n",
    "where the dependent variable is average hourly\n",
    "earnings ($Y=$ `ahe`), $X_{1}$ denotes gender ($X_{1}=$ `female`) and\n",
    "is equal to 1 if the worker is female and $X_{2}$ is a crude measure\n",
    "of education and is equal to 1 if the worker has a college degree \n",
    "($X_{2}=$`bachelor`}).\n",
    "\n",
    "Regress `ahe` on `female` and `bachelor`."
   ]
  },
  {
   "cell_type": "code",
   "execution_count": null,
   "id": "44041728",
   "metadata": {},
   "outputs": [],
   "source": [
    "# regress `ahe` on `female` and `bachelor`\n",
    "X = sm.add_constant(data[['female','bachelor']])\n",
    "y = data['ahe']\n",
    "model_ahe_bachelor_female = sm.OLS(y, X).fit(cov_type='HC1')\n",
    "print(model_ahe_bachelor_female.summary())"
   ]
  },
  {
   "cell_type": "markdown",
   "id": "418e25a5",
   "metadata": {},
   "source": [
    "### Q5(e)\n",
    "\n",
    " Next, regress `female` on a constant and the variable `bachelor`.\n",
    " Then, obtain an estimate of $\\epsilon$ where \n",
    " \\begin{equation*}\n",
    "  \\epsilon \\equiv X_{1}-\\delta _{0}-\\delta _{1}X_{2} \n",
    " \\end{equation*}\n",
    " and \n",
    " \\begin{equation*} \n",
    " \\delta _{1}\\equiv \\frac{Cov\\left(X_{1},X_{2}\\right) }{Var\\left( X_{2}\\right) }\n",
    " \\qquad \\text{and } \\ \\delta_{0}\\equiv \\mathbb{E}\\left( X_{1}\\right) \n",
    " -\\delta_{1}\\mathbb{E}\\left( X_{2}\\right) \n",
    " \\end{equation*} \n",
    "The command  `y-model.predict(X)` produces (for observation $i$) \n",
    "\\begin{align*}\n",
    " \\mathtt{epsilonhat}_{i} = \n",
    " \\mathtt{female}_{i}-\\hat{\\delta}_{0}-\\hat{\\delta}_{1}\\mathtt{bachelor}_{i}\n",
    "\\end{align*} \n",
    "where $(\\hat{\\delta}_{0},\\hat{\\delta}_{1})$ are the OLS coefficients from \n",
    "the regression of `female` on a constant and  `bachelor`."
   ]
  },
  {
   "cell_type": "code",
   "execution_count": null,
   "id": "449c7b6f",
   "metadata": {},
   "outputs": [],
   "source": [
    "X = sm.add_constant(data['bachelor'])\n",
    "y = data['female']\n",
    "model = sm.OLS(y, X).fit(cov_type='HC1')\n",
    "epsilonhat = y - model.predict(X)\n",
    "data['epsilonhat'] = epsilonhat"
   ]
  },
  {
   "cell_type": "markdown",
   "id": "4321ec8c",
   "metadata": {},
   "source": [
    "### Q5(f)"
   ]
  },
  {
   "cell_type": "markdown",
   "id": "1aa3b182",
   "metadata": {},
   "source": [
    " Regress `epsilonhat` on a constant and `bachelor`. The coefficient \n",
    " on `bachelor` is zero (to machine accuracy). Is this what you would \n",
    " expect? Why or why not?"
   ]
  },
  {
   "cell_type": "code",
   "execution_count": null,
   "id": "eeafd9a5",
   "metadata": {},
   "outputs": [],
   "source": [
    "X = sm.add_constant(data['bachelor'])\n",
    "model_epsilon = sm.OLS(data['epsilonhat'], X).fit(cov_type='HC1')\n",
    "print(model_epsilon.summary())"
   ]
  },
  {
   "cell_type": "markdown",
   "id": "d76d10f4",
   "metadata": {},
   "source": [
    "### Q5(g)\n",
    "\n",
    "Regress `ahe` on `epsilonhat`."
   ]
  },
  {
   "cell_type": "code",
   "execution_count": null,
   "id": "7cd91acb",
   "metadata": {},
   "outputs": [],
   "source": [
    "X = sm.add_constant(data['epsilonhat'])\n",
    "y = data['ahe']\n",
    "model_ahe_epsilon = sm.OLS(y, X).fit(cov_type='HC1')\n",
    "print(model_ahe_epsilon.summary())"
   ]
  },
  {
   "cell_type": "markdown",
   "id": "078f7d1e",
   "metadata": {
    "tags": []
   },
   "source": [
    "### Q5(h)\n",
    "\n",
    "Regress `ahe` on `female` and `bachelor`. Compare the coefficient on\n",
    "`female` from this regression to the coefficient on `epsilonhat` from\n",
    "the previous regression. What do you conclude from the observation\n",
    "that they are identical?"
   ]
  },
  {
   "cell_type": "code",
   "execution_count": null,
   "id": "3263718f",
   "metadata": {},
   "outputs": [],
   "source": [
    "X = sm.add_constant(data[['female', 'bachelor']])\n",
    "y = data['ahe']\n",
    "model_ahe_female_bachelor = sm.OLS(y, X).fit(cov_type='HC1')\n",
    "print(model_ahe_female_bachelor.summary())"
   ]
  },
  {
   "cell_type": "markdown",
   "id": "38259415",
   "metadata": {},
   "source": [
    "## Question  6\n",
    "\n",
    "### Q6(a)\n",
    "\n",
    "Using the Jupyter notebook code, estimate this model where\n",
    "  $y=$ `ahe`, $X_{1}=$ `female` and $X_{2}=$ `bachelor`.\n",
    "  Then, run the relevant cells in the notebook to\n",
    "  obtain predictions for the average hourly wage\n",
    "  for all four possible combinations of `female` and\n",
    "  `bachelor`."
   ]
  },
  {
   "cell_type": "code",
   "execution_count": null,
   "id": "cc9a93ff-55f1-4ead-bf37-d7c8a22ea04e",
   "metadata": {},
   "outputs": [],
   "source": [
    "# Regress `ahe` on `female`, `bachelor` and a constant.\n",
    "X = data[['female', 'bachelor']]\n",
    "X = sm.add_constant(X)  # Adds a constant column for the intercept term\n",
    "y = data['ahe']\n",
    "# Estimate the model\n",
    "model = sm.OLS(y, X).fit(cov_type='HC1')\n",
    "# Display the model summary\n",
    "print(model.summary())"
   ]
  },
  {
   "cell_type": "code",
   "execution_count": null,
   "id": "2064fd87-6450-41be-8e42-18406442d774",
   "metadata": {},
   "outputs": [],
   "source": [
    "## Obtaining Predictions\n",
    "# Obtain Predictions\n",
    "combinations = [\n",
    "    [1, 0, 0],  # constant, female=0, bachelor=0\n",
    "    [1, 0, 1],  # constant, female=0, bachelor=1\n",
    "    [1, 1, 0],  # constant, female=1, bachelor=0\n",
    "    [1, 1, 1],  # constant, female=1, bachelor=1\n",
    "]\n",
    "predictions = model.predict(combinations)"
   ]
  },
  {
   "cell_type": "markdown",
   "id": "57a94314-509f-4203-b02b-c62c1963c4db",
   "metadata": {},
   "source": [
    "### Q6(b)\n",
    "\n",
    "Construct confidence intervals for each of the four predictions\n",
    "  from the linear regression model."
   ]
  },
  {
   "cell_type": "code",
   "execution_count": null,
   "id": "4e6ff5fd-0021-4ca0-b025-ea4dc8421a12",
   "metadata": {},
   "outputs": [],
   "source": [
    "# Compute standard errors of predictions\n",
    "X_combinations = np.array(combinations)\n",
    "cov_matrix = model.cov_params()\n",
    "se_predictions = [np.sqrt(X_combinations[i].dot(cov_matrix).dot(X_combinations[i].T)) for i in range(len(X_combinations))]"
   ]
  },
  {
   "cell_type": "markdown",
   "id": "9ef0933b-752f-4b67-9e0f-10b31b9fdea1",
   "metadata": {},
   "source": [
    "This is accomplished in the Python\n",
    "  notebook by the commands (the `norm` function is imported\n",
    "  from `scipy.stats` in the Setup Section of the notebook):"
   ]
  },
  {
   "cell_type": "code",
   "execution_count": null,
   "id": "0159e8e6-418f-4a43-a3af-9450392c9b00",
   "metadata": {},
   "outputs": [],
   "source": [
    "# Compute the 95% confidence intervals for predictions using the normal approximation\n",
    "confidence_level = 0.95\n",
    "z_value = norm.ppf(1 - (confidence_level/2))\n",
    "conf_intervals = [(predictions[i] - z_value*se_predictions[i], predictions[i] + z_value*se_predictions[i]) for i in range(len(predictions))]"
   ]
  },
  {
   "cell_type": "code",
   "execution_count": null,
   "id": "3e906f61-c8a3-4d75-82fc-d1f1de8fc571",
   "metadata": {},
   "outputs": [],
   "source": [
    "# Display predictions and confidence intervals\n",
    "print(\"\\nPredictions with Confidence Intervals:\")\n",
    "combo_labels = [\n",
    "    \"Male without a Bachelor's Degree\",\n",
    "    \"Male with a Bachelor's Degree\",\n",
    "    \"Female without a Bachelor's Degree\",\n",
    "    \"Female with a Bachelor's Degree\"\n",
    "]\n",
    "for label, pred, (lower, upper) in zip(combo_labels, predictions, conf_intervals):\n",
    "    print(f\"\\nFor {label}:\")\n",
    "    print(f\"Predicted: ${pred:.5f}\")\n",
    "    print(f\"95% CI: [${lower:.5f}, ${upper:.5f}]\")"
   ]
  },
  {
   "cell_type": "markdown",
   "id": "084d7aef-5e3b-4248-833c-77346ac58777",
   "metadata": {},
   "source": [
    "### Q6(c)\n",
    "\n",
    "Next, we will compare these predictions\n",
    "  to the actual sample conditional means. First, we compute the four\n",
    "  different conditional means -- i.e. average wages for each of the\n",
    "  possible values that `female` and `bachelor`\n",
    "  variables take together (i.e. (0,0),(1,0),(0,1) and\n",
    "  (1,1)). Sometimes such cell means are known as \"cross-tabs.\" This\n",
    "  is accomplished in the code by:"
   ]
  },
  {
   "cell_type": "code",
   "execution_count": null,
   "id": "098d45bb-8485-4994-bd2c-33b03684ed72",
   "metadata": {},
   "outputs": [],
   "source": [
    "# Compute conditional statistics for the dataset\n",
    "grouped = data.groupby(['female', 'bachelor']).agg({\n",
    "    'ahe': ['mean', 'std', 'count']\n",
    "}).reset_index()"
   ]
  },
  {
   "cell_type": "markdown",
   "id": "3c5c0910-0e1f-4f20-a81d-97b13fa6fde8",
   "metadata": {},
   "source": [
    "Run the python cell that computes these four cell means. Compare\n",
    "  the predictions in 6(a) to these conditional means by\n",
    "  running the corresponding cells in Python. Are they identical?"
   ]
  },
  {
   "cell_type": "code",
   "execution_count": null,
   "id": "fe99e0c3-f6de-4e28-a20f-179bd80c99fa",
   "metadata": {},
   "outputs": [],
   "source": [
    "# Print sub-sample means, predictions and their difference\n",
    "\n",
    "print(\"\\nSub-sample Statistics, Predictions, and Differences:\")\n",
    "for index, row in grouped.iterrows():\n",
    "    gender_value = row[('female', '')]  # Access the 'female' value\n",
    "    bachelor_value = row[('bachelor', '')]  # Access the 'bachelor' value\n",
    "    \n",
    "    gender = \"Female\" if gender_value == 1 else \"Male\"\n",
    "    education = \"with a Bachelor's Degree\" if bachelor_value == 1 else \"without a Bachelor's Degree\"\n",
    "    \n",
    "    mean = row[('ahe', 'mean')]\n",
    "    std = row[('ahe', 'std')]\n",
    "    count = row[('ahe', 'count')]\n",
    "    \n",
    "    prediction = predictions[index]\n",
    "    difference = prediction - mean\n",
    "    \n",
    "    print(f\"\\nFor {gender} {education}:\")\n",
    "    print(f\"Actual Mean: ${mean:.5f}\")\n",
    "    print(f\"Predicted: ${prediction:.5f}\")\n",
    "    print(f\"Difference: ${difference:.5f}\")\n",
    "    print(f\"Standard Deviation: {std:.5f}\")\n",
    "    print(f\"Sample Size: {int(count)}\")"
   ]
  },
  {
   "cell_type": "markdown",
   "id": "3c117f8e-fdf7-4e02-a9af-a2a80faa98b5",
   "metadata": {},
   "source": [
    "### Q6(e)\n",
    "\n",
    "(**Adding an interaction term**) Next, use the relevant Python cell to\n",
    "  estimate the regression coefficients in the following regression\n",
    "\\begin{equation*} \n",
    "\\texttt{ahe}=\\delta _{0}+\\delta\n",
    "_{1}\\texttt{female}+\\delta _{2}\n",
    "\\texttt{bachelor}+\\delta _{3}\\texttt{bachelor*female}+v\n",
    "\\end{equation*}\n",
    "where $\\mathbb{E}\\left( v\\mathbf{x}\\right) =0$ and\n",
    "$\\mathbf{x=}\\left( 1,\\texttt{female},\\texttt{bachelor},\\texttt{bachelor*female}\\right) ^{\\prime}$.\n",
    "Run the relevant Python cell that compares\n",
    "the predicted sample means from this model to the actual conditional\n",
    "sample means (the \"cross-tabs\").  How different are they?  What\n",
    "does this tell you about the relationships between the cross-tabs\n",
    "constructed in 6(c) above and the regression carried\n",
    "out here."
   ]
  },
  {
   "cell_type": "code",
   "execution_count": null,
   "id": "dbd7e96b-7d07-4467-a4bc-bac37ca2364c",
   "metadata": {},
   "outputs": [],
   "source": [
    "# 1. Create interaction term\n",
    "data['bachelor_female'] = data['bachelor'] * data['female']\n",
    "\n",
    "# 2. Construct the regression model\n",
    "X = data[['female', 'bachelor', 'bachelor_female']]\n",
    "X = sm.add_constant(X)  # Add a constant to represent the intercept\n",
    "y = data['ahe']\n",
    "\n",
    "# 3. Estimate the model\n",
    "model = sm.OLS(y, X).fit(cov_type='HC1')\n",
    "\n",
    "# 4. Display the results\n",
    "print(model.summary())\n",
    "\n",
    "# Compute the predicted means from this model: \n",
    "# 1. Obtain Predictions\n",
    "combinations = [\n",
    "    [1, 0, 0, 0],  # constant, female=0, bachelor=0, bachelor_female=0\n",
    "    [1, 0, 1, 0],  # constant, female=0, bachelor=1, bachelor_female=0\n",
    "    [1, 1, 0, 0],  # constant, female=1, bachelor=0, bachelor_female=0\n",
    "    [1, 1, 1, 1],  # constant, female=1, bachelor=1, bachelor_female=1\n",
    "]\n",
    "predictions = model.predict(combinations)\n",
    "\n",
    "# Compare predictions to conditional Means \n",
    "grouped = data.groupby(['female', 'bachelor']).agg({\n",
    "    'ahe': ['mean', 'std', 'count']\n",
    "}).reset_index()\n",
    "\n",
    "# Give names to the columns for easier referencing\n",
    "grouped.columns = ['female', 'bachelor', 'ahe_mean', 'ahe_std', 'ahe_count']\n",
    "\n",
    "# Using the regression equation & predictions (assuming model is already fit as in prior code)\n",
    "combinations = [\n",
    "    [1, 0, 0, 0],  # constant, female=0, bachelor=0, bachelor_female=0\n",
    "    [1, 0, 1, 0],  # constant, female=0, bachelor=1, bachelor_female=0\n",
    "    [1, 1, 0, 0],  # constant, female=1, bachelor=0, bachelor_female=0\n",
    "    [1, 1, 1, 1],  # constant, female=1, bachelor=1, bachelor_female=1\n",
    "]\n",
    "predictions = model.predict(combinations)\n",
    "\n",
    "# Compare the predictions to the conditional means\n",
    "conditional_means = grouped['ahe_mean'].values\n",
    "\n",
    "# Construct and print the comparison table\n",
    "output = []\n",
    "output.append(\"{:<25} {:<20} {:<20} {:<20}\".format(\"Group (female, bachelor)\", \n",
    "                                                   \"Predicted Value\", \n",
    "                                                   \"Conditional Mean\", \n",
    "                                                   \"Difference\"))\n",
    "output.append(\"-\" * 85)\n",
    "for i, combination in enumerate(combinations):\n",
    "    difference = predictions[i] - conditional_means[i]\n",
    "    output.append(\"{:<25} {:<20.5f} {:<20.5f} {:<20.5f}\".format(str(combination[1:3]), \n",
    "                                                                predictions[i], \n",
    "                                                                conditional_means[i], \n",
    "                                                                difference))\n",
    "print(\"\\n\".join(output))"
   ]
  },
  {
   "cell_type": "markdown",
   "id": "5830e1ed-a110-478d-8fd9-c9e9aece89af",
   "metadata": {},
   "source": [
    "### Q6(f)\n",
    "\n",
    "(**Adding age as a regressor**) Now, estimate the mean of $\\texttt{ahe}$ conditional on \n",
    "$\\texttt{age}$, $\\texttt{female}$, and $\\texttt{bachelor}$ by running the relevant Python\n",
    "  cell.  The output reports the sample means for ages 28, 30 and 32\n",
    "  for each of the four categories defined by $\\texttt{female}$ and\n",
    "  $\\texttt{bachelor}$ (i.e. for values $\\left( 0,1\\right) ,$\n",
    "  $\\left( 1,0\\right) ,$ $\\left( 0,0\\right) $ and $\\left( 1,1\\right) $\n",
    "  respectively). How many means are estimated?"
   ]
  },
  {
   "cell_type": "code",
   "execution_count": null,
   "id": "f2882591-8c5c-4950-ba4d-488e50c1a6cf",
   "metadata": {},
   "outputs": [],
   "source": [
    "# Group by 'age', 'female', and 'bachelor' and compute the aggregation functions\n",
    "grouped = data.groupby(['age', 'female', 'bachelor']).agg({\n",
    "    'ahe': ['mean', 'std', 'count']\n",
    "}).reset_index()\n",
    "\n",
    "# Rename columns for easier referencing\n",
    "grouped.columns = ['Age', 'Female', 'Bachelor', 'Mean of AHE', 'Std Dev of AHE', 'Count of AHE']\n",
    "\n",
    "# Filter the data to only include ages 28, 30, and 32\n",
    "filtered_data = grouped[grouped['Age'].isin([28, 30, 32])]\n",
    "\n",
    "# Pretty Print using Pandas Styling\n",
    "def highlight(s):\n",
    "    return ['background-color: lightgrey' if s.name in [\"Age\", \"Female\", \"Bachelor\"] else '' for v in s]\n",
    "\n",
    "styled = filtered_data.style.apply(highlight, axis=1)\\\n",
    "    .set_properties(**{'text-align': 'center'})\\\n",
    "    .hide_index()\\\n",
    "    .highlight_max(subset=[\"Mean of AHE\", \"Std Dev of AHE\", \"Count of AHE\"], color='lightgreen')\\\n",
    "    .highlight_min(subset=[\"Mean of AHE\", \"Std Dev of AHE\", \"Count of AHE\"], color='salmon')\n",
    "\n",
    "print(filtered_data)"
   ]
  },
  {
   "cell_type": "markdown",
   "id": "901b2bf6-4fd7-422a-9c30-779fbc1d9480",
   "metadata": {},
   "source": [
    "### Q6(g)\n",
    "\n",
    "Next, run the Python cell that estimates the regression specification\n",
    "\\begin{equation*}\n",
    "\\texttt{ahe}=\\delta _{0}+\\delta _{1}\\texttt{female}+\\delta _{2}\n",
    "\\texttt{bachelor}+\\delta _{3}\\texttt{age}+v\n",
    "\\end{equation*}\n",
    "where $\\mathbb{E}\\left( v\\mathbf{x}\\right) =0$ and \n",
    "$\\mathbf{x=}\\left(1,\\texttt{female},\\texttt{bachelor},\\texttt{age}\\right)^{\\prime}$. \n",
    "Compare the predicted sample means in this model for the\n",
    "age-sex-bachelor categories you calculated in part (e) above.  How\n",
    "different are they?  Comment on the advantages and disadvantages of\n",
    "learning about sub-sample means using multiple regression (versus the\n",
    "cross-tab means carried out in part (e))."
   ]
  },
  {
   "cell_type": "code",
   "execution_count": null,
   "id": "1decb525-e885-4c1a-82fa-d80b46703847",
   "metadata": {},
   "outputs": [],
   "source": [
    "# Comparing the predictions from OLS to sub-group means when we have a\n",
    "# regressor that takes on multiple values (`age`)\n",
    "\n",
    "# Create LHS and RHS data \n",
    "X = data[['female', 'bachelor', 'age']]\n",
    "X = sm.add_constant(X)  # Adds a constant column for the intercept term\n",
    "y = data['ahe']\n",
    "\n",
    "# Estimate Model \n",
    "model = sm.OLS(y, X).fit(cov_type='HC1')\n",
    "\n",
    "# Print model summary \n",
    "print(model.summary())\n",
    "\n",
    "# Predict Sample Means for the specific age-sex-bachelor categories\n",
    "ages = [28, 30, 32]\n",
    "combinations = [\n",
    "    [1, 0, 0, age] for age in ages\n",
    "] + [\n",
    "    [1, 0, 1, age] for age in ages\n",
    "] + [\n",
    "    [1, 1, 0, age] for age in ages\n",
    "] + [\n",
    "    [1, 1, 1, age] for age in ages\n",
    "]\n",
    "\n",
    "predictions = model.predict(combinations)\n",
    "\n",
    "# Prepare data for comparison\n",
    "# Filtering for specific ages and aggregating by 'female', 'bachelor', and 'age'\n",
    "filtered_data = data[data['age'].isin([28, 30, 32])]\n",
    "grouped = filtered_data.groupby(['female', 'bachelor', 'age']).agg({\n",
    "    'ahe': ['mean', 'std', 'count']\n",
    "}).reset_index()\n",
    "grouped.columns = ['Female', 'Bachelor', 'Age', 'Mean of AHE', 'Std Dev of AHE', 'Count']\n",
    "\n",
    "# Add the predictions to our grouped data\n",
    "grouped['Predicted AHE'] = predictions\n",
    "\n",
    "# Calculate the difference between conditional mean and predicted mean\n",
    "grouped['Difference'] = grouped['Mean of AHE'] - grouped['Predicted AHE']\n",
    "\n",
    "# Displaying the results\n",
    "cols_to_display = ['Age', 'Female', 'Bachelor', 'Mean of AHE', 'Predicted AHE', 'Difference']\n",
    "print(grouped[cols_to_display])"
   ]
  },
  {
   "cell_type": "code",
   "execution_count": null,
   "id": "ff27facf-150b-43ea-87a0-d9cde451fdf4",
   "metadata": {},
   "outputs": [],
   "source": []
  }
 ],
 "metadata": {
  "kernelspec": {
   "display_name": "Python 3 (ipykernel)",
   "language": "python",
   "name": "python3"
  },
  "language_info": {
   "codemirror_mode": {
    "name": "ipython",
    "version": 3
   },
   "file_extension": ".py",
   "mimetype": "text/x-python",
   "name": "python",
   "nbconvert_exporter": "python",
   "pygments_lexer": "ipython3",
   "version": "3.9.15"
  }
 },
 "nbformat": 4,
 "nbformat_minor": 5
}
